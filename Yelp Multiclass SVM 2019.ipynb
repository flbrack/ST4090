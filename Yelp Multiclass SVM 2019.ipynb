{
 "cells": [
  {
   "cell_type": "code",
   "execution_count": 1,
   "metadata": {},
   "outputs": [
    {
     "name": "stdout",
     "output_type": "stream",
     "text": [
      "There are 6685900 reviews.\n"
     ]
    }
   ],
   "source": [
    "import json\n",
    "import numpy as np\n",
    "import matplotlib.pyplot as plt\n",
    "from collections import Counter\n",
    "from datetime import datetime\n",
    "from sklearn.feature_extraction.text import TfidfVectorizer\n",
    "from sklearn.model_selection import train_test_split\n",
    "from sklearn.svm import LinearSVC\n",
    "from sklearn.metrics import confusion_matrix, classification_report, accuracy_score\n",
    "\n",
    "review_yelp = \"yelp_dataset_2019/review.json\"       # Creating paths to the data files\n",
    "\n",
    "reviews = []\n",
    "with open(review_yelp,encoding=\"utf8\") as f:\n",
    "    for line in f:\n",
    "        reviews.append(json.loads(line))\n",
    "             \n",
    "            \n",
    "            \n",
    "print(\"There are \" + str(len(reviews)) + \" reviews.\")                  # Finding the size of each list"
   ]
  },
  {
   "cell_type": "code",
   "execution_count": 2,
   "metadata": {},
   "outputs": [],
   "source": [
    "texts = [review['text'] for review in reviews]\n",
    "stars = [review['stars'] for review in reviews]"
   ]
  },
  {
   "cell_type": "code",
   "execution_count": 3,
   "metadata": {},
   "outputs": [
    {
     "data": {
      "text/plain": [
       "Counter({1.0: 1002159, 5.0: 2933082, 4.0: 1468985, 3.0: 739280, 2.0: 542394})"
      ]
     },
     "execution_count": 3,
     "metadata": {},
     "output_type": "execute_result"
    }
   ],
   "source": [
    "Counter(stars)"
   ]
  },
  {
   "cell_type": "code",
   "execution_count": 3,
   "metadata": {},
   "outputs": [
    {
     "name": "stdout",
     "output_type": "stream",
     "text": [
      "Counter({1.0: 542394, 5.0: 542394, 4.0: 542394, 3.0: 542394, 2.0: 542394})\n"
     ]
    }
   ],
   "source": [
    "def Balance_Classes(xs, ys):\n",
    "    freqs = Counter(ys)\n",
    "    max_allowable = freqs.most_common()[-1][1]\n",
    "    num_added = {clss: 0 for clss in freqs.keys()}\n",
    "    new_ys = []\n",
    "    new_xs = []\n",
    "    for i, y in enumerate(ys):\n",
    "        if num_added[y] < max_allowable:\n",
    "            new_ys.append(y)\n",
    "            new_xs.append(xs[i])\n",
    "            num_added[y] += 1\n",
    "    return new_xs, new_ys\n",
    "\n",
    "balanced_x, balanced_y = Balance_Classes(texts,stars)\n",
    "print(Counter(balanced_y))"
   ]
  },
  {
   "cell_type": "code",
   "execution_count": 4,
   "metadata": {},
   "outputs": [
    {
     "name": "stdout",
     "output_type": "stream",
     "text": [
      "2:46:05.313192\n"
     ]
    }
   ],
   "source": [
    "vectorizer = TfidfVectorizer(ngram_range=(1,2))\n",
    "t1 = datetime.now()\n",
    " \n",
    "# the 'fit' builds up the vocabulary from all the reviews\n",
    "# while the 'transform' step turns each indivdual text into\n",
    "# a matrix of numbers.\n",
    "vectors = vectorizer.fit_transform(balanced_x)\n",
    "print(datetime.now() - t1)"
   ]
  },
  {
   "cell_type": "code",
   "execution_count": 5,
   "metadata": {},
   "outputs": [
    {
     "name": "stdout",
     "output_type": "stream",
     "text": [
      "[LibLinear]"
     ]
    },
    {
     "name": "stderr",
     "output_type": "stream",
     "text": [
      "C:\\ProgramData\\Anaconda3\\lib\\site-packages\\sklearn\\svm\\base.py:898: ConvergenceWarning: Liblinear failed to converge, increase the number of iterations.\n",
      "  \"the number of iterations.\", ConvergenceWarning)\n"
     ]
    },
    {
     "name": "stdout",
     "output_type": "stream",
     "text": [
      "2:27:06.144048\n"
     ]
    }
   ],
   "source": [
    "X_train, X_test, y_train, y_test = train_test_split(vectors, balanced_y, test_size=0.33, random_state=42)\n",
    "\n",
    "# initialise the SVM classifier\n",
    "clf = LinearSVC(verbose = 2)\n",
    " \n",
    "# train the classifier\n",
    "t1 = datetime.now()\n",
    "clf.fit(X_train, y_train)\n",
    "print(datetime.now() - t1)"
   ]
  },
  {
   "cell_type": "code",
   "execution_count": 6,
   "metadata": {},
   "outputs": [
    {
     "name": "stdout",
     "output_type": "stream",
     "text": [
      "[5.0, 4.0, 4.0, 2.0, 3.0, 5.0, 2.0, 5.0, 3.0, 1.0]\n",
      "[5.0, 3.0, 4.0, 2.0, 2.0, 5.0, 3.0, 4.0, 3.0, 1.0]\n"
     ]
    }
   ],
   "source": [
    "preds = clf.predict(X_test)\n",
    "print(list(preds[:10]))\n",
    "\n",
    "print(y_test[:10])"
   ]
  },
  {
   "cell_type": "code",
   "execution_count": 7,
   "metadata": {},
   "outputs": [
    {
     "name": "stdout",
     "output_type": "stream",
     "text": [
      "0.630141761951213\n"
     ]
    }
   ],
   "source": [
    "print(accuracy_score(y_test, preds))"
   ]
  },
  {
   "cell_type": "code",
   "execution_count": 8,
   "metadata": {},
   "outputs": [
    {
     "name": "stdout",
     "output_type": "stream",
     "text": [
      "             precision    recall  f1-score   support\n",
      "\n",
      "        1.0       0.73      0.79      0.76    178927\n",
      "        2.0       0.56      0.53      0.54    178837\n",
      "        3.0       0.54      0.52      0.53    179139\n",
      "        4.0       0.57      0.54      0.56    179505\n",
      "        5.0       0.73      0.77      0.75    178543\n",
      "\n",
      "avg / total       0.63      0.63      0.63    894951\n",
      "\n"
     ]
    }
   ],
   "source": [
    "print(classification_report(y_test, preds))"
   ]
  },
  {
   "cell_type": "code",
   "execution_count": 9,
   "metadata": {},
   "outputs": [
    {
     "name": "stdout",
     "output_type": "stream",
     "text": [
      "[[140815  31345   4799    960   1008]\n",
      " [ 41233  94071  37136   4832   1565]\n",
      " [  8355  36893  93973  34259   5659]\n",
      " [  1698   4749  33555  97672  41831]\n",
      " [  1266   1024   4899  33939 137415]]\n"
     ]
    }
   ],
   "source": [
    "print(confusion_matrix(y_test, preds))"
   ]
  },
  {
   "cell_type": "code",
   "execution_count": null,
   "metadata": {},
   "outputs": [],
   "source": []
  }
 ],
 "metadata": {
  "kernelspec": {
   "display_name": "Python 3",
   "language": "python",
   "name": "python3"
  },
  "language_info": {
   "codemirror_mode": {
    "name": "ipython",
    "version": 3
   },
   "file_extension": ".py",
   "mimetype": "text/x-python",
   "name": "python",
   "nbconvert_exporter": "python",
   "pygments_lexer": "ipython3",
   "version": "3.6.5"
  }
 },
 "nbformat": 4,
 "nbformat_minor": 2
}
