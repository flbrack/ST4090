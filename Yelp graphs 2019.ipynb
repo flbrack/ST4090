{
 "cells": [
  {
   "cell_type": "code",
   "execution_count": 1,
   "metadata": {},
   "outputs": [],
   "source": [
    "import json\n",
    "import numpy as np\n",
    "import matplotlib.pyplot as plt\n",
    "from collections import Counter"
   ]
  },
  {
   "cell_type": "code",
   "execution_count": 2,
   "metadata": {},
   "outputs": [],
   "source": [
    "review_yelp = \"yelp_dataset_2019/review.json\" \n",
    "tips_yelp = \"yelp_dataset_2019/tip.json\"\n",
    "business_yelp = \"yelp_dataset_2019/business.json\"\n",
    "users_yelp =\"yelp_dataset_2019/user.json\""
   ]
  },
  {
   "cell_type": "markdown",
   "metadata": {},
   "source": [
    "# Reading in Data"
   ]
  },
  {
   "cell_type": "code",
   "execution_count": 3,
   "metadata": {},
   "outputs": [
    {
     "name": "stdout",
     "output_type": "stream",
     "text": [
      "There are 6685900 reviews.\n"
     ]
    }
   ],
   "source": [
    "reviews = []\n",
    "with open(review_yelp,encoding=\"utf8\") as f:\n",
    "    for line in f:\n",
    "        reviews.append(json.loads(line))\n",
    "print(\"There are \" + str(len(reviews)) + \" reviews.\")"
   ]
  },
  {
   "cell_type": "code",
   "execution_count": 44,
   "metadata": {},
   "outputs": [
    {
     "name": "stdout",
     "output_type": "stream",
     "text": [
      "There are 192609 businesses.\n"
     ]
    }
   ],
   "source": [
    "businesses = []\n",
    "with open(business_yelp,encoding=\"utf8\") as f:\n",
    "    for line in f:\n",
    "        businesses.append(json.loads(line))\n",
    "print(\"There are \" + str(len(businesses)) + \" businesses.\")"
   ]
  },
  {
   "cell_type": "code",
   "execution_count": 36,
   "metadata": {},
   "outputs": [
    {
     "name": "stdout",
     "output_type": "stream",
     "text": [
      "There are 1637138 users.\n"
     ]
    }
   ],
   "source": [
    "users = []\n",
    "with open(users_yelp,encoding=\"utf8\") as f:\n",
    "    for line in f:\n",
    "        users.append(json.loads(line))\n",
    "print(\"There are \" + str(len(users)) + \" users.\")"
   ]
  },
  {
   "cell_type": "code",
   "execution_count": 7,
   "metadata": {},
   "outputs": [
    {
     "name": "stdout",
     "output_type": "stream",
     "text": [
      "There are 1223094 tips\n"
     ]
    }
   ],
   "source": [
    "tips = []\n",
    "with open(tips_yelp,encoding=\"utf8\") as f:\n",
    "    for line in f:\n",
    "        tips.append(json.loads(line))\n",
    "print(\"There are \" + str(len(tips)) + \" tips\")"
   ]
  },
  {
   "cell_type": "markdown",
   "metadata": {},
   "source": [
    "# Distribution of Reviews"
   ]
  },
  {
   "cell_type": "code",
   "execution_count": 11,
   "metadata": {},
   "outputs": [
    {
     "data": {
      "text/plain": [
       "[('CxDOIDnH8gp9KXzpBHJYXw', 4129),\n",
       " ('bLbSNkLggFnqwNNzzq-Ijw', 2354),\n",
       " ('PKEzKWv_FktMm2mGPjwd0Q', 1822),\n",
       " ('ELcQDlf69kb-ihJfxZyL0A', 1764),\n",
       " ('DK57YibC5ShBmqQl97CKog', 1727),\n",
       " ('U4INQZOPSUaj8hMjLlZ3KA', 1559),\n",
       " ('QJI9OSEn6ujRCtrX06vs1w', 1496),\n",
       " ('d_TBs6J3twMy9GChqUEXkg', 1360),\n",
       " ('hWDybu_KvYLSdEFzGrniTw', 1355),\n",
       " ('cMEtAiW60I5wE_vLfTxoJQ', 1255)]"
      ]
     },
     "execution_count": 11,
     "metadata": {},
     "output_type": "execute_result"
    }
   ],
   "source": [
    "prolific_reviewers = Counter([review['user_id'] for review in reviews]) \n",
    "prolific_reviewers.most_common(10)[:]               #Finding the users with the most reviews"
   ]
  },
  {
   "cell_type": "code",
   "execution_count": 12,
   "metadata": {},
   "outputs": [
    {
     "data": {
      "text/plain": [
       "[(1, 858483), (2, 271476), (3, 138003), (4, 83046), (5, 54953)]"
      ]
     },
     "execution_count": 12,
     "metadata": {},
     "output_type": "execute_result"
    }
   ],
   "source": [
    "num_reviews_left = Counter([x[1] for x in prolific_reviewers.most_common()])\n",
    "\n",
    "num_reviews_left.most_common(5)"
   ]
  },
  {
   "cell_type": "code",
   "execution_count": 96,
   "metadata": {},
   "outputs": [
    {
     "data": {
      "image/png": "[encoded data removed]",
      "text/plain": [
       "<Figure size 432x288 with 1 Axes>"
      ]
     },
     "metadata": {},
     "output_type": "display_data"
    }
   ],
   "source": [
    "Xs = [x[0] for x in num_reviews_left.most_common()]\n",
    "Ys = [x[1] for x in num_reviews_left.most_common()]\n",
    "plt.bar(Xs[:20], Ys[:20])\n",
    "plt.xticks(range(1,21))\n",
    "plt.xlabel(\"Number of Reviews\")\n",
    "plt.ylabel(\"Number of Users\")\n",
    "plt.title(\"Distribution of Reviews per User\")\n",
    "plt.tight_layout(0.3)\n",
    "#plt.savefig(\"Dist_Reviews_by_Users.pdf\",dpi=600)\n",
    "plt.show()"
   ]
  },
  {
   "cell_type": "code",
   "execution_count": 5,
   "metadata": {},
   "outputs": [
    {
     "data": {
      "text/plain": [
       "[('4JNXUYY8wbaaDmk3BPzlWw', 8570),\n",
       " ('RESDUcs7fIiihp38-d6_6g', 8568),\n",
       " ('K7lWdNUhCbcnEvI0NhGewg', 6887),\n",
       " ('f4x1YBxkLrZg652xt2KR5g', 5847),\n",
       " ('cYwJA2A6I12KNkm2rtXd5g', 5575),\n",
       " ('DkYS3arLOhA8si5uUEmHOw', 5206),\n",
       " ('2weQS-RnoOBhb1KsHKyoSQ', 4534),\n",
       " ('5LNZ67Yw9RD6nf4_UhXOjw', 4522),\n",
       " ('iCQpiavjjPzJ5_3gPD5Ebg', 4351),\n",
       " ('SMPbvZLSMMb7KU76YNYMGg', 4350)]"
      ]
     },
     "execution_count": 5,
     "metadata": {},
     "output_type": "execute_result"
    }
   ],
   "source": [
    "prolific_business = Counter([review['business_id'] for review in reviews]) \n",
    "prolific_business.most_common(10)[:]                           #Finding the businesses with the most reviews"
   ]
  },
  {
   "cell_type": "code",
   "execution_count": 6,
   "metadata": {},
   "outputs": [
    {
     "data": {
      "text/plain": [
       "[(3, 31940), (4, 18500), (5, 13722), (6, 10926), (7, 9003)]"
      ]
     },
     "execution_count": 6,
     "metadata": {},
     "output_type": "execute_result"
    }
   ],
   "source": [
    "num_reviews_per_bus = Counter([x[1] for x in prolific_business.most_common()])\n",
    "\n",
    "num_reviews_per_bus.most_common(5)"
   ]
  },
  {
   "cell_type": "code",
   "execution_count": 79,
   "metadata": {},
   "outputs": [
    {
     "data": {
      "image/png": "[encoded data removed]",
      "text/plain": [
       "<Figure size 432x288 with 1 Axes>"
      ]
     },
     "metadata": {},
     "output_type": "display_data"
    }
   ],
   "source": [
    "Xs = [x[0] for x in num_reviews_per_bus.most_common()]\n",
    "Ys = [x[1] for x in num_reviews_per_bus.most_common()]\n",
    "plt.bar(Xs[:20], Ys[:20])\n",
    "plt.xticks(range(1,23))\n",
    "plt.xlabel(\"Number of Reviews\")\n",
    "plt.ylabel(\"Number of Businesses\")\n",
    "plt.title(\"Distribution of Reviews per Business\")\n",
    "#plt.savefig(\"Dist_Reviews_per_Business.pdf\",dpi=600)\n",
    "plt.show()"
   ]
  },
  {
   "cell_type": "markdown",
   "metadata": {},
   "source": [
    "# Distribution of Stars"
   ]
  },
  {
   "cell_type": "code",
   "execution_count": 28,
   "metadata": {},
   "outputs": [],
   "source": [
    "stars_counter = Counter([business['stars'] for business in businesses])"
   ]
  },
  {
   "cell_type": "code",
   "execution_count": 81,
   "metadata": {},
   "outputs": [
    {
     "data": {
      "image/png": "[encoded data removed]",
      "text/plain": [
       "<Figure size 432x288 with 1 Axes>"
      ]
     },
     "metadata": {},
     "output_type": "display_data"
    }
   ],
   "source": [
    "Xs = [x[0] for x in stars_counter.most_common()]\n",
    "Ys = [x[1] for x in stars_counter.most_common()]\n",
    "plt.bar(Xs, Ys,width=0.3)\n",
    "plt.xlabel(\"Number of Stars\")\n",
    "plt.ylabel(\"Number of Business\")\n",
    "plt.title(\"Distribution of Stars per Business\")\n",
    "#plt.savefig(\"Dist_stars_per_bus.pdf\",dpi=600)\n",
    "plt.show()"
   ]
  },
  {
   "cell_type": "code",
   "execution_count": 22,
   "metadata": {},
   "outputs": [],
   "source": [
    "stars = Counter([review['stars'] for review in reviews])"
   ]
  },
  {
   "cell_type": "code",
   "execution_count": 84,
   "metadata": {},
   "outputs": [
    {
     "data": {
      "image/png": "[encoded data removed]",
      "text/plain": [
       "<Figure size 432x288 with 1 Axes>"
      ]
     },
     "metadata": {},
     "output_type": "display_data"
    }
   ],
   "source": [
    "Xs = [x[0] for x in Counter(stars).most_common()]\n",
    "Ys = [x[1] for x in Counter(stars).most_common()]\n",
    "plt.bar(Xs, Ys)\n",
    "plt.xlabel(\"Stars\")\n",
    "plt.ylabel(\"Number of Reviews\")\n",
    "plt.title(\"Distribution of Stars per Review\")\n",
    "#plt.savefig(\"Dist_stars_per_review.pdf\",dpi=600)\n",
    "plt.show()"
   ]
  },
  {
   "cell_type": "code",
   "execution_count": 38,
   "metadata": {},
   "outputs": [],
   "source": [
    "average_stars = Counter([user['average_stars'] for user in users])"
   ]
  },
  {
   "cell_type": "code",
   "execution_count": 86,
   "metadata": {},
   "outputs": [
    {
     "data": {
      "image/png": "[encoded data removed]",
      "text/plain": [
       "<Figure size 432x288 with 1 Axes>"
      ]
     },
     "metadata": {},
     "output_type": "display_data"
    }
   ],
   "source": [
    "Xs = [x[0] for x in Counter(average_stars).most_common()]\n",
    "Ys = [x[1] for x in Counter(average_stars).most_common()]\n",
    "plt.bar(Xs, Ys)\n",
    "plt.xlabel(\"Average Stars\")\n",
    "plt.ylabel(\"Number of Users\")\n",
    "plt.title(\"Distribution of Average Stars per User\")\n",
    "#plt.savefig(\"Dist_stars_per_user.pdf\",dpi=600)\n",
    "plt.show()"
   ]
  },
  {
   "cell_type": "code",
   "execution_count": 43,
   "metadata": {},
   "outputs": [],
   "source": [
    "del users"
   ]
  },
  {
   "cell_type": "markdown",
   "metadata": {},
   "source": [
    "# Cities"
   ]
  },
  {
   "cell_type": "code",
   "execution_count": 31,
   "metadata": {},
   "outputs": [
    {
     "data": {
      "text/plain": [
       "[('Las Vegas', 29370),\n",
       " ('Toronto', 18906),\n",
       " ('Phoenix', 18766),\n",
       " ('Charlotte', 9509),\n",
       " ('Scottsdale', 8837),\n",
       " ('Calgary', 7736),\n",
       " ('Pittsburgh', 7017),\n",
       " ('Montréal', 6449),\n",
       " ('Mesa', 6080),\n",
       " ('Henderson', 4892),\n",
       " ('Tempe', 4550),\n",
       " ('Chandler', 4309),\n",
       " ('Cleveland', 3605),\n",
       " ('Glendale', 3543),\n",
       " ('Madison', 3494),\n",
       " ('Gilbert', 3462),\n",
       " ('Mississauga', 3112),\n",
       " ('Peoria', 1919),\n",
       " ('Markham', 1766),\n",
       " ('North Las Vegas', 1548),\n",
       " ('Champaign', 1262),\n",
       " ('North York', 1205),\n",
       " ('Surprise', 1148),\n",
       " ('Scarborough', 1103),\n",
       " ('Richmond Hill', 1026),\n",
       " ('Brampton', 1002),\n",
       " ('Concord', 990),\n",
       " ('Vaughan', 919),\n",
       " ('Goodyear', 855),\n",
       " ('Etobicoke', 793)]"
      ]
     },
     "execution_count": 31,
     "metadata": {},
     "output_type": "execute_result"
    }
   ],
   "source": [
    "busy_cities = Counter([business['city'] for business in businesses]).most_common(30)\n",
    "# Finding the cities with the most businesses\n",
    "busy_cities[:]"
   ]
  },
  {
   "cell_type": "code",
   "execution_count": 93,
   "metadata": {},
   "outputs": [
    {
     "data": {
      "image/png": "[encoded data removed]",
      "text/plain": [
       "<Figure size 432x288 with 1 Axes>"
      ]
     },
     "metadata": {},
     "output_type": "display_data"
    }
   ],
   "source": [
    "cities = []\n",
    "numbers = []\n",
    "for x in busy_cities:\n",
    "    cities.append(x[0])\n",
    "for x in busy_cities:\n",
    "    numbers.append(x[1])\n",
    "x = np.linspace(0,30,30)\n",
    "y = np.linspace(-2,28,30)\n",
    "plt.bar(x,numbers, width = 0.5,tick_label=cities)\n",
    "plt.xticks(rotation=90)\n",
    "plt.ylabel(\"Number of Reviews\")\n",
    "plt.title(\"Reviews per City\")\n",
    "plt.tight_layout(0.2)\n",
    "#plt.savefig(\"cities.pdf\",dpi=600)\n",
    "plt.show()"
   ]
  },
  {
   "cell_type": "markdown",
   "metadata": {},
   "source": [
    "# Identifying most reviewed businesses"
   ]
  },
  {
   "cell_type": "code",
   "execution_count": 49,
   "metadata": {},
   "outputs": [
    {
     "name": "stdout",
     "output_type": "stream",
     "text": [
      "Mon Ami Gabi 82250\n"
     ]
    }
   ],
   "source": [
    "for i in range(len(businesses)):\n",
    "    if businesses[i]['business_id'] == '4JNXUYY8wbaaDmk3BPzlWw':\n",
    "        print(businesses[i]['name'])"
   ]
  },
  {
   "cell_type": "code",
   "execution_count": 51,
   "metadata": {},
   "outputs": [
    {
     "name": "stdout",
     "output_type": "stream",
     "text": [
      "Bacchanal Buffet 89206\n"
     ]
    }
   ],
   "source": [
    "for i in range(len(businesses)):\n",
    "    if businesses[i]['business_id'] == 'RESDUcs7fIiihp38-d6_6g':\n",
    "        print(businesses[i]['name'])"
   ]
  },
  {
   "cell_type": "code",
   "execution_count": 52,
   "metadata": {},
   "outputs": [
    {
     "name": "stdout",
     "output_type": "stream",
     "text": [
      "Wicked Spoon 35199\n"
     ]
    }
   ],
   "source": [
    "for i in range(len(businesses)):\n",
    "    if businesses[i]['business_id'] == 'K7lWdNUhCbcnEvI0NhGewg':\n",
    "        print(businesses[i]['name'])"
   ]
  },
  {
   "cell_type": "code",
   "execution_count": 53,
   "metadata": {},
   "outputs": [
    {
     "name": "stdout",
     "output_type": "stream",
     "text": [
      "Hash House A Go Go 58852\n"
     ]
    }
   ],
   "source": [
    "for i in range(len(businesses)):\n",
    "    if businesses[i]['business_id'] == 'f4x1YBxkLrZg652xt2KR5g':\n",
    "        print(businesses[i]['name'])"
   ]
  },
  {
   "cell_type": "code",
   "execution_count": null,
   "metadata": {},
   "outputs": [],
   "source": []
  }
 ],
 "metadata": {
  "kernelspec": {
   "display_name": "Python 3",
   "language": "python",
   "name": "python3"
  },
  "language_info": {
   "codemirror_mode": {
    "name": "ipython",
    "version": 3
   },
   "file_extension": ".py",
   "mimetype": "text/x-python",
   "name": "python",
   "nbconvert_exporter": "python",
   "pygments_lexer": "ipython3",
   "version": "3.6.5"
  }
 },
 "nbformat": 4,
 "nbformat_minor": 2
}
