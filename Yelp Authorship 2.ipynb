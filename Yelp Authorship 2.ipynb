{
 "cells": [
  {
   "cell_type": "code",
   "execution_count": 1,
   "metadata": {},
   "outputs": [
    {
     "name": "stdout",
     "output_type": "stream",
     "text": [
      "There are 6685900 reviews.\n"
     ]
    }
   ],
   "source": [
    "import json\n",
    "import numpy as np\n",
    "import matplotlib.pyplot as plt\n",
    "from collections import Counter\n",
    "from datetime import datetime\n",
    "from sklearn.feature_extraction.text import TfidfVectorizer\n",
    "from sklearn.model_selection import train_test_split\n",
    "from sklearn.metrics import confusion_matrix, classification_report, accuracy_score\n",
    "\n",
    "review_yelp = \"yelp_dataset_2019/review.json\"       # Creating paths to the data files\n",
    "\n",
    "reviews = []\n",
    "with open(review_yelp,encoding=\"utf8\") as f:\n",
    "    for line in f:\n",
    "        reviews.append(json.loads(line))\n",
    "             \n",
    "            \n",
    "            \n",
    "print(\"There are \" + str(len(reviews)) + \" reviews.\")"
   ]
  },
  {
   "cell_type": "code",
   "execution_count": 2,
   "metadata": {},
   "outputs": [],
   "source": [
    "prolific_reviewers = Counter([review['user_id'] for review in reviews]).most_common(50)\n",
    "\n",
    "keep_ids = {pr[0] : 0 for pr in prolific_reviewers}\n",
    " \n",
    "keep_reviews = []\n",
    "for review in reviews:\n",
    "    uid = review['user_id']\n",
    "    if uid in keep_ids and keep_ids[uid] < 500:\n",
    "        keep_reviews.append(review)\n",
    "        keep_ids[uid] += 1\n",
    "        \n",
    "texts = [review['text'] for review in keep_reviews]\n",
    "authors = [review['user_id'] for review in keep_reviews]"
   ]
  },
  {
   "cell_type": "code",
   "execution_count": 3,
   "metadata": {},
   "outputs": [
    {
     "name": "stdout",
     "output_type": "stream",
     "text": [
      "0:00:14.001861\n"
     ]
    }
   ],
   "source": [
    "vectorizer = TfidfVectorizer(ngram_range=(1,2))\n",
    "t1 = datetime.now()\n",
    "vectors = vectorizer.fit_transform(texts)\n",
    "print(datetime.now() - t1)"
   ]
  },
  {
   "cell_type": "markdown",
   "metadata": {},
   "source": [
    "# Naive Bayes"
   ]
  },
  {
   "cell_type": "code",
   "execution_count": 2,
   "metadata": {},
   "outputs": [],
   "source": [
    "from sklearn.feature_extraction.text import CountVectorizer"
   ]
  },
  {
   "cell_type": "code",
   "execution_count": 32,
   "metadata": {},
   "outputs": [],
   "source": [
    "from sklearn.naive_bayes import MultinomialNB\n",
    "mnb = MultinomialNB()"
   ]
  },
  {
   "cell_type": "code",
   "execution_count": 37,
   "metadata": {},
   "outputs": [
    {
     "data": {
      "text/plain": [
       "MultinomialNB(alpha=1.0, class_prior=None, fit_prior=True)"
      ]
     },
     "execution_count": 37,
     "metadata": {},
     "output_type": "execute_result"
    }
   ],
   "source": [
    "X_train, X_test, y_train, y_test = train_test_split(vectors, authors, test_size=0.33, random_state=42)\n",
    "\n",
    "mnb.fit(X_train,y_train)"
   ]
  },
  {
   "cell_type": "code",
   "execution_count": 38,
   "metadata": {},
   "outputs": [],
   "source": [
    "mnb_preds = mnb.predict(X_test)"
   ]
  },
  {
   "cell_type": "code",
   "execution_count": 39,
   "metadata": {},
   "outputs": [
    {
     "name": "stdout",
     "output_type": "stream",
     "text": [
      "0.5111515151515151\n"
     ]
    }
   ],
   "source": [
    "print(accuracy_score(y_test, mnb_preds))"
   ]
  },
  {
   "cell_type": "code",
   "execution_count": 24,
   "metadata": {},
   "outputs": [
    {
     "data": {
      "text/plain": [
       "array(['U4INQZOPSUaj8hMjLlZ3KA', 'I-4KVZ9lqHhk8469X9FvhA',\n",
       "       'WeVkkF5L39888IPPlRhNpg', 'n86B7IkbU20AkxlFX_5aew',\n",
       "       'PKEzKWv_FktMm2mGPjwd0Q', 'fiGqQ7pIGKyZ9G0RqWLMpg',\n",
       "       'WeVkkF5L39888IPPlRhNpg', 'V-BbqKqO8anwplGRx9Q5aQ',\n",
       "       'n86B7IkbU20AkxlFX_5aew', 'n86B7IkbU20AkxlFX_5aew',\n",
       "       'WeVkkF5L39888IPPlRhNpg', 'n86B7IkbU20AkxlFX_5aew',\n",
       "       'fiGqQ7pIGKyZ9G0RqWLMpg', 'V-BbqKqO8anwplGRx9Q5aQ',\n",
       "       'WeVkkF5L39888IPPlRhNpg', 'n86B7IkbU20AkxlFX_5aew',\n",
       "       'WeVkkF5L39888IPPlRhNpg', 'NfU0zDaTMEQ4-X9dbQWd9A',\n",
       "       'n86B7IkbU20AkxlFX_5aew', 'WeVkkF5L39888IPPlRhNpg',\n",
       "       'V-BbqKqO8anwplGRx9Q5aQ', 'V-BbqKqO8anwplGRx9Q5aQ',\n",
       "       '62GNFh5FySkA3MbrQmnqvg', 'RBZ_kMjowV0t6_nv2UKaDQ',\n",
       "       'fiGqQ7pIGKyZ9G0RqWLMpg', 'NfU0zDaTMEQ4-X9dbQWd9A',\n",
       "       'n86B7IkbU20AkxlFX_5aew', 'WeVkkF5L39888IPPlRhNpg',\n",
       "       'fiGqQ7pIGKyZ9G0RqWLMpg', 'M9rRM6Eo5YbKLKMG5QiIPA',\n",
       "       'RBZ_kMjowV0t6_nv2UKaDQ', 'WeVkkF5L39888IPPlRhNpg',\n",
       "       'I-4KVZ9lqHhk8469X9FvhA', 'rCWrxuRC8_pfagpchtHp6A',\n",
       "       'M9rRM6Eo5YbKLKMG5QiIPA', 'M9rRM6Eo5YbKLKMG5QiIPA',\n",
       "       'n86B7IkbU20AkxlFX_5aew', 'M9rRM6Eo5YbKLKMG5QiIPA',\n",
       "       'M9rRM6Eo5YbKLKMG5QiIPA', 'n86B7IkbU20AkxlFX_5aew',\n",
       "       'MMf0LhEk5tGa1LvN7zcDnA', 'O3pSxv1SyHpY4qi4Q16KzA',\n",
       "       'n86B7IkbU20AkxlFX_5aew', 'n86B7IkbU20AkxlFX_5aew',\n",
       "       '62GNFh5FySkA3MbrQmnqvg', 'WeVkkF5L39888IPPlRhNpg',\n",
       "       'V-BbqKqO8anwplGRx9Q5aQ', 'WeVkkF5L39888IPPlRhNpg',\n",
       "       'YMgZqBUAddmFErxLtCfK_w', 'WeVkkF5L39888IPPlRhNpg'], dtype='<U22')"
      ]
     },
     "execution_count": 24,
     "metadata": {},
     "output_type": "execute_result"
    }
   ],
   "source": [
    "mnb_preds[0:50]"
   ]
  },
  {
   "cell_type": "code",
   "execution_count": 25,
   "metadata": {},
   "outputs": [
    {
     "name": "stdout",
     "output_type": "stream",
     "text": [
      "                        precision    recall  f1-score   support\n",
      "\n",
      "0BBUmH7Krcax1RZgbH4fSA       0.57      0.56      0.56       161\n",
      "3nDUQBjKyVor5wV0reJChg       0.97      0.48      0.65       151\n",
      "4wp4XI9AxKNqJima-xahlg       0.87      0.44      0.58       154\n",
      "62GNFh5FySkA3MbrQmnqvg       0.72      0.68      0.70       177\n",
      "CxDOIDnH8gp9KXzpBHJYXw       0.90      0.05      0.10       168\n",
      "DK57YibC5ShBmqQl97CKog       0.86      0.08      0.14       156\n",
      "ELcQDlf69kb-ihJfxZyL0A       0.00      0.00      0.00       170\n",
      "HJj82f-csBI7jjgenwqhvw       0.75      0.02      0.04       163\n",
      "I-4KVZ9lqHhk8469X9FvhA       0.57      0.96      0.71       159\n",
      "L8P5OWO1Jh4B2HLa1Fnbng       1.00      0.05      0.10       158\n",
      "Lfv4hefW1VbvaC2gatTFWA       1.00      0.01      0.03       149\n",
      "M9rRM6Eo5YbKLKMG5QiIPA       0.30      0.99      0.47       173\n",
      "MMf0LhEk5tGa1LvN7zcDnA       0.91      0.24      0.38       165\n",
      "N3oNEwh0qgPqPP3Em6wJXw       0.86      0.04      0.07       166\n",
      "NfU0zDaTMEQ4-X9dbQWd9A       0.60      0.67      0.63       173\n",
      "O3pSxv1SyHpY4qi4Q16KzA       0.98      0.36      0.53       159\n",
      "PKEzKWv_FktMm2mGPjwd0Q       0.86      0.42      0.56       162\n",
      "PcvbBOCOcs6_suRDH7TSTg       0.00      0.00      0.00       178\n",
      "PeLGa5vUR8_mcsn-fn42Jg       0.00      0.00      0.00       168\n",
      "Q9mA60HnY87C1TW5kjAZ6Q       0.00      0.00      0.00       153\n",
      "QJI9OSEn6ujRCtrX06vs1w       0.93      0.24      0.38       176\n",
      "RBZ_kMjowV0t6_nv2UKaDQ       0.37      0.85      0.52       144\n",
      "Ry1O_KXZHGRI8g5zBR3IcQ       0.86      0.21      0.34       168\n",
      "SlgpAnj2gQd44EM_Uq6DkQ       0.89      0.05      0.09       166\n",
      "U4INQZOPSUaj8hMjLlZ3KA       0.30      0.83      0.44       166\n",
      "U5YQX_vMl_xQy8EQDqlNQQ       1.00      0.09      0.17       172\n",
      "UYcmGbelzRa0Q6JqzLoguw       1.00      0.01      0.01       165\n",
      "V-BbqKqO8anwplGRx9Q5aQ       0.17      0.91      0.28       145\n",
      "Wc5L6iuvSNF5WGBlqIO8nw       1.00      0.01      0.01       182\n",
      "WeVkkF5L39888IPPlRhNpg       0.08      0.99      0.14       176\n",
      "Wu0yySWcHQ5tZ_59HNiamg       0.85      0.14      0.25       152\n",
      "Wx7cbLDqYEL3_aVZwh82Ww       1.00      0.05      0.09       194\n",
      "Xxvz5g67eaCr3emnkY5M6w       0.00      0.00      0.00       143\n",
      "YBT3EKUNN4IP8m4x7sGu1g       1.00      0.04      0.07       160\n",
      "YMgZqBUAddmFErxLtCfK_w       0.82      0.09      0.16       163\n",
      "YRcaNlwQ6XXPFDXWtuMGdA       0.00      0.00      0.00       185\n",
      "bLbSNkLggFnqwNNzzq-Ijw       0.85      0.07      0.13       160\n",
      "cMEtAiW60I5wE_vLfTxoJQ       0.86      0.04      0.07       163\n",
      "dIIKEfOgo0KqUfGQvGikPg       0.87      0.39      0.54       156\n",
      "d_TBs6J3twMy9GChqUEXkg       0.97      0.20      0.33       158\n",
      "dt9IHwfuZs9D9LOH7gjNew       0.00      0.00      0.00       176\n",
      "fiGqQ7pIGKyZ9G0RqWLMpg       0.35      0.92      0.50       168\n",
      "gwIqbXEXijQNgdESVc07hg       0.99      0.44      0.61       172\n",
      "hWDybu_KvYLSdEFzGrniTw       0.00      0.00      0.00       158\n",
      "iDlkZO2iILS8Jwfdy7DP9A       0.00      0.00      0.00       170\n",
      "ic-tyi1jElL_umxZVh8KNA       0.00      0.00      0.00       181\n",
      "n86B7IkbU20AkxlFX_5aew       0.09      0.97      0.17       158\n",
      "pMefTWo6gMdx8WhYSA2u3w       0.50      0.01      0.01       169\n",
      "qewG3X2O4X6JKskxyyqFwQ       0.94      0.38      0.54       160\n",
      "rCWrxuRC8_pfagpchtHp6A       0.92      0.80      0.86       181\n",
      "\n",
      "           avg / total       0.60      0.29      0.26      8250\n",
      "\n"
     ]
    },
    {
     "name": "stderr",
     "output_type": "stream",
     "text": [
      "C:\\ProgramData\\Anaconda3\\lib\\site-packages\\sklearn\\metrics\\classification.py:1135: UndefinedMetricWarning: Precision and F-score are ill-defined and being set to 0.0 in labels with no predicted samples.\n",
      "  'precision', 'predicted', average, warn_for)\n"
     ]
    }
   ],
   "source": [
    "print(classification_report(y_test, mnb_preds))"
   ]
  },
  {
   "cell_type": "code",
   "execution_count": null,
   "metadata": {},
   "outputs": [],
   "source": [
    "print(confusion_matrix(y_test,mnb_preds))"
   ]
  },
  {
   "cell_type": "markdown",
   "metadata": {},
   "source": [
    "# KNN"
   ]
  },
  {
   "cell_type": "code",
   "execution_count": 4,
   "metadata": {},
   "outputs": [],
   "source": [
    "from sklearn.neighbors import KNeighborsClassifier\n",
    "knn = KNeighborsClassifier(n_neighbors=15)  "
   ]
  },
  {
   "cell_type": "code",
   "execution_count": 5,
   "metadata": {},
   "outputs": [],
   "source": [
    "X_train, X_test, y_train, y_test = train_test_split(vectors, authors, test_size=0.33, random_state=42)"
   ]
  },
  {
   "cell_type": "code",
   "execution_count": 6,
   "metadata": {},
   "outputs": [
    {
     "data": {
      "text/plain": [
       "KNeighborsClassifier(algorithm='auto', leaf_size=30, metric='minkowski',\n",
       "           metric_params=None, n_jobs=1, n_neighbors=15, p=2,\n",
       "           weights='uniform')"
      ]
     },
     "execution_count": 6,
     "metadata": {},
     "output_type": "execute_result"
    }
   ],
   "source": [
    "knn.fit(X_train, y_train)  "
   ]
  },
  {
   "cell_type": "code",
   "execution_count": 7,
   "metadata": {},
   "outputs": [],
   "source": [
    "knn_preds = knn.predict(X_test)"
   ]
  },
  {
   "cell_type": "code",
   "execution_count": 8,
   "metadata": {},
   "outputs": [
    {
     "name": "stdout",
     "output_type": "stream",
     "text": [
      "0.4050909090909091\n"
     ]
    }
   ],
   "source": [
    "print(accuracy_score(y_test, knn_preds))"
   ]
  },
  {
   "cell_type": "code",
   "execution_count": 32,
   "metadata": {},
   "outputs": [
    {
     "name": "stdout",
     "output_type": "stream",
     "text": [
      "                        precision    recall  f1-score   support\n",
      "\n",
      "0BBUmH7Krcax1RZgbH4fSA       0.20      0.57      0.30       161\n",
      "3nDUQBjKyVor5wV0reJChg       0.70      0.65      0.67       151\n",
      "4wp4XI9AxKNqJima-xahlg       0.15      0.13      0.14       154\n",
      "62GNFh5FySkA3MbrQmnqvg       0.26      0.79      0.39       177\n",
      "CxDOIDnH8gp9KXzpBHJYXw       0.49      0.36      0.41       168\n",
      "DK57YibC5ShBmqQl97CKog       0.23      0.32      0.27       156\n",
      "ELcQDlf69kb-ihJfxZyL0A       0.60      0.18      0.27       170\n",
      "HJj82f-csBI7jjgenwqhvw       0.69      0.36      0.48       163\n",
      "I-4KVZ9lqHhk8469X9FvhA       0.15      0.87      0.26       159\n",
      "L8P5OWO1Jh4B2HLa1Fnbng       0.90      0.68      0.78       158\n",
      "Lfv4hefW1VbvaC2gatTFWA       0.62      0.46      0.53       149\n",
      "M9rRM6Eo5YbKLKMG5QiIPA       0.57      0.55      0.56       173\n",
      "MMf0LhEk5tGa1LvN7zcDnA       0.46      0.56      0.51       165\n",
      "N3oNEwh0qgPqPP3Em6wJXw       0.53      0.14      0.23       166\n",
      "NfU0zDaTMEQ4-X9dbQWd9A       0.42      0.21      0.28       173\n",
      "O3pSxv1SyHpY4qi4Q16KzA       0.61      0.86      0.71       159\n",
      "PKEzKWv_FktMm2mGPjwd0Q       0.25      0.62      0.35       162\n",
      "PcvbBOCOcs6_suRDH7TSTg       0.68      0.74      0.71       178\n",
      "PeLGa5vUR8_mcsn-fn42Jg       0.75      0.23      0.35       168\n",
      "Q9mA60HnY87C1TW5kjAZ6Q       0.62      0.05      0.10       153\n",
      "QJI9OSEn6ujRCtrX06vs1w       0.55      0.66      0.60       176\n",
      "RBZ_kMjowV0t6_nv2UKaDQ       0.20      0.33      0.25       144\n",
      "Ry1O_KXZHGRI8g5zBR3IcQ       0.48      0.32      0.38       168\n",
      "SlgpAnj2gQd44EM_Uq6DkQ       0.44      0.41      0.42       166\n",
      "U4INQZOPSUaj8hMjLlZ3KA       0.61      0.75      0.67       166\n",
      "U5YQX_vMl_xQy8EQDqlNQQ       0.74      0.17      0.27       172\n",
      "UYcmGbelzRa0Q6JqzLoguw       0.67      0.40      0.50       165\n",
      "V-BbqKqO8anwplGRx9Q5aQ       0.33      0.85      0.48       145\n",
      "Wc5L6iuvSNF5WGBlqIO8nw       0.92      0.13      0.23       182\n",
      "WeVkkF5L39888IPPlRhNpg       0.56      0.26      0.35       176\n",
      "Wu0yySWcHQ5tZ_59HNiamg       0.23      0.16      0.19       152\n",
      "Wx7cbLDqYEL3_aVZwh82Ww       0.72      0.35      0.47       194\n",
      "Xxvz5g67eaCr3emnkY5M6w       0.45      0.13      0.20       143\n",
      "YBT3EKUNN4IP8m4x7sGu1g       0.92      0.49      0.64       160\n",
      "YMgZqBUAddmFErxLtCfK_w       0.48      0.38      0.42       163\n",
      "YRcaNlwQ6XXPFDXWtuMGdA       0.43      0.19      0.27       185\n",
      "bLbSNkLggFnqwNNzzq-Ijw       0.29      0.01      0.02       160\n",
      "cMEtAiW60I5wE_vLfTxoJQ       0.73      0.63      0.68       163\n",
      "dIIKEfOgo0KqUfGQvGikPg       0.53      0.27      0.36       156\n",
      "d_TBs6J3twMy9GChqUEXkg       0.19      0.72      0.30       158\n",
      "dt9IHwfuZs9D9LOH7gjNew       0.86      0.11      0.19       176\n",
      "fiGqQ7pIGKyZ9G0RqWLMpg       0.61      0.70      0.65       168\n",
      "gwIqbXEXijQNgdESVc07hg       0.86      0.58      0.69       172\n",
      "hWDybu_KvYLSdEFzGrniTw       0.63      0.16      0.26       158\n",
      "iDlkZO2iILS8Jwfdy7DP9A       0.69      0.17      0.27       170\n",
      "ic-tyi1jElL_umxZVh8KNA       0.95      0.38      0.54       181\n",
      "n86B7IkbU20AkxlFX_5aew       0.23      0.63      0.34       158\n",
      "pMefTWo6gMdx8WhYSA2u3w       0.61      0.27      0.37       169\n",
      "qewG3X2O4X6JKskxyyqFwQ       0.54      0.09      0.16       160\n",
      "rCWrxuRC8_pfagpchtHp6A       0.89      0.30      0.45       181\n",
      "\n",
      "           avg / total       0.55      0.41      0.40      8250\n",
      "\n"
     ]
    }
   ],
   "source": [
    "print(classification_report(y_test, knn_preds))"
   ]
  },
  {
   "cell_type": "code",
   "execution_count": null,
   "metadata": {},
   "outputs": [],
   "source": []
  }
 ],
 "metadata": {
  "kernelspec": {
   "display_name": "Python 3",
   "language": "python",
   "name": "python3"
  },
  "language_info": {
   "codemirror_mode": {
    "name": "ipython",
    "version": 3
   },
   "file_extension": ".py",
   "mimetype": "text/x-python",
   "name": "python",
   "nbconvert_exporter": "python",
   "pygments_lexer": "ipython3",
   "version": "3.6.5"
  }
 },
 "nbformat": 4,
 "nbformat_minor": 2
}
