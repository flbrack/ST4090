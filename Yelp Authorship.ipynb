{
 "cells": [
  {
   "cell_type": "code",
   "execution_count": 1,
   "metadata": {},
   "outputs": [
    {
     "name": "stdout",
     "output_type": "stream",
     "text": [
      "There are 6685900 reviews.\n"
     ]
    }
   ],
   "source": [
    "import json\n",
    "import numpy as np\n",
    "import matplotlib.pyplot as plt\n",
    "from collections import Counter\n",
    "from datetime import datetime\n",
    "from sklearn.feature_extraction.text import TfidfVectorizer\n",
    "from sklearn.model_selection import train_test_split\n",
    "from sklearn.svm import LinearSVC\n",
    "from sklearn.metrics import confusion_matrix, classification_report, accuracy_score\n",
    "\n",
    "review_yelp = \"yelp_dataset_2019/review.json\"       # Creating paths to the data files\n",
    "\n",
    "reviews = []\n",
    "with open(review_yelp,encoding=\"utf8\") as f:\n",
    "    for line in f:\n",
    "        reviews.append(json.loads(line))\n",
    "             \n",
    "            \n",
    "            \n",
    "print(\"There are \" + str(len(reviews)) + \" reviews.\")"
   ]
  },
  {
   "cell_type": "code",
   "execution_count": 2,
   "metadata": {},
   "outputs": [],
   "source": [
    "prolific_reviewers = Counter([review['user_id'] for review in reviews]).most_common(50)"
   ]
  },
  {
   "cell_type": "code",
   "execution_count": 3,
   "metadata": {},
   "outputs": [
    {
     "data": {
      "text/plain": [
       "('Wx7cbLDqYEL3_aVZwh82Ww', 778)"
      ]
     },
     "execution_count": 3,
     "metadata": {},
     "output_type": "execute_result"
    }
   ],
   "source": [
    "prolific_reviewers[-1]"
   ]
  },
  {
   "cell_type": "code",
   "execution_count": 4,
   "metadata": {},
   "outputs": [],
   "source": [
    "keep_ids = {pr[0] : 0 for pr in prolific_reviewers}\n",
    " \n",
    "keep_reviews = []\n",
    "for review in reviews:\n",
    "    uid = review['user_id']\n",
    "    if uid in keep_ids and keep_ids[uid] < 500:\n",
    "        keep_reviews.append(review)\n",
    "        keep_ids[uid] += 1"
   ]
  },
  {
   "cell_type": "code",
   "execution_count": 5,
   "metadata": {},
   "outputs": [],
   "source": [
    "texts = [review['text'] for review in keep_reviews]\n",
    "authors = [review['user_id'] for review in keep_reviews]"
   ]
  },
  {
   "cell_type": "code",
   "execution_count": 6,
   "metadata": {},
   "outputs": [
    {
     "name": "stdout",
     "output_type": "stream",
     "text": [
      "0:00:15.100800\n"
     ]
    }
   ],
   "source": [
    "vectorizer = TfidfVectorizer(ngram_range=(1,2))\n",
    "t1 = datetime.now()\n",
    "vectors = vectorizer.fit_transform(texts)\n",
    "print(datetime.now() - t1)"
   ]
  },
  {
   "cell_type": "code",
   "execution_count": 7,
   "metadata": {},
   "outputs": [
    {
     "name": "stdout",
     "output_type": "stream",
     "text": [
      "[LibLinear]0:00:18.408000\n"
     ]
    }
   ],
   "source": [
    "X_train, X_test, y_train, y_test = train_test_split(vectors, authors, test_size=0.33, random_state=42)\n",
    "\n",
    "clf = LinearSVC(verbose = 2)\n",
    " \n",
    "# train the classifier\n",
    "t1 = datetime.now()\n",
    "clf.fit(X_train, y_train)\n",
    "print(datetime.now() - t1)"
   ]
  },
  {
   "cell_type": "code",
   "execution_count": 8,
   "metadata": {},
   "outputs": [
    {
     "name": "stdout",
     "output_type": "stream",
     "text": [
      "['U4INQZOPSUaj8hMjLlZ3KA', 'I-4KVZ9lqHhk8469X9FvhA', 'Wx7cbLDqYEL3_aVZwh82Ww', 'O3pSxv1SyHpY4qi4Q16KzA', 'PKEzKWv_FktMm2mGPjwd0Q', 'Q9mA60HnY87C1TW5kjAZ6Q', 'Wc5L6iuvSNF5WGBlqIO8nw', 'UYcmGbelzRa0Q6JqzLoguw', 'I-4KVZ9lqHhk8469X9FvhA', 'DK57YibC5ShBmqQl97CKog']\n",
      "['U4INQZOPSUaj8hMjLlZ3KA', 'I-4KVZ9lqHhk8469X9FvhA', 'Wx7cbLDqYEL3_aVZwh82Ww', 'O3pSxv1SyHpY4qi4Q16KzA', 'PKEzKWv_FktMm2mGPjwd0Q', 'Q9mA60HnY87C1TW5kjAZ6Q', 'Wc5L6iuvSNF5WGBlqIO8nw', 'UYcmGbelzRa0Q6JqzLoguw', 'pMefTWo6gMdx8WhYSA2u3w', 'DK57YibC5ShBmqQl97CKog']\n"
     ]
    }
   ],
   "source": [
    "preds = clf.predict(X_test)\n",
    "print(list(preds[:10]))\n",
    "\n",
    "print(y_test[:10])"
   ]
  },
  {
   "cell_type": "code",
   "execution_count": 9,
   "metadata": {},
   "outputs": [
    {
     "name": "stdout",
     "output_type": "stream",
     "text": [
      "0.9155151515151515\n"
     ]
    }
   ],
   "source": [
    "print(accuracy_score(y_test, preds))"
   ]
  },
  {
   "cell_type": "code",
   "execution_count": 10,
   "metadata": {},
   "outputs": [
    {
     "name": "stdout",
     "output_type": "stream",
     "text": [
      "                        precision    recall  f1-score   support\n",
      "\n",
      "0BBUmH7Krcax1RZgbH4fSA       0.89      0.87      0.88       161\n",
      "3nDUQBjKyVor5wV0reJChg       0.97      0.98      0.98       151\n",
      "4wp4XI9AxKNqJima-xahlg       0.90      0.91      0.91       154\n",
      "62GNFh5FySkA3MbrQmnqvg       0.90      0.97      0.93       177\n",
      "CxDOIDnH8gp9KXzpBHJYXw       0.98      0.96      0.97       168\n",
      "DK57YibC5ShBmqQl97CKog       0.89      0.78      0.83       156\n",
      "ELcQDlf69kb-ihJfxZyL0A       0.95      0.92      0.93       170\n",
      "HJj82f-csBI7jjgenwqhvw       0.90      0.90      0.90       163\n",
      "I-4KVZ9lqHhk8469X9FvhA       0.90      0.97      0.93       159\n",
      "L8P5OWO1Jh4B2HLa1Fnbng       0.95      0.99      0.97       158\n",
      "Lfv4hefW1VbvaC2gatTFWA       0.89      0.95      0.92       149\n",
      "M9rRM6Eo5YbKLKMG5QiIPA       0.95      0.97      0.96       173\n",
      "MMf0LhEk5tGa1LvN7zcDnA       0.95      0.95      0.95       165\n",
      "N3oNEwh0qgPqPP3Em6wJXw       0.92      0.94      0.93       166\n",
      "NfU0zDaTMEQ4-X9dbQWd9A       0.95      0.92      0.93       173\n",
      "O3pSxv1SyHpY4qi4Q16KzA       0.96      0.97      0.97       159\n",
      "PKEzKWv_FktMm2mGPjwd0Q       0.89      0.92      0.91       162\n",
      "PcvbBOCOcs6_suRDH7TSTg       0.81      0.93      0.86       178\n",
      "PeLGa5vUR8_mcsn-fn42Jg       0.83      0.87      0.85       168\n",
      "Q9mA60HnY87C1TW5kjAZ6Q       0.86      0.92      0.89       153\n",
      "QJI9OSEn6ujRCtrX06vs1w       0.95      0.98      0.96       176\n",
      "RBZ_kMjowV0t6_nv2UKaDQ       0.89      0.92      0.90       144\n",
      "Ry1O_KXZHGRI8g5zBR3IcQ       0.92      0.93      0.93       168\n",
      "SlgpAnj2gQd44EM_Uq6DkQ       0.94      0.91      0.93       166\n",
      "U4INQZOPSUaj8hMjLlZ3KA       0.97      0.83      0.90       166\n",
      "U5YQX_vMl_xQy8EQDqlNQQ       0.94      0.94      0.94       172\n",
      "UYcmGbelzRa0Q6JqzLoguw       0.92      0.86      0.89       165\n",
      "V-BbqKqO8anwplGRx9Q5aQ       0.99      0.92      0.96       145\n",
      "Wc5L6iuvSNF5WGBlqIO8nw       0.93      0.95      0.94       182\n",
      "WeVkkF5L39888IPPlRhNpg       0.97      0.95      0.96       176\n",
      "Wu0yySWcHQ5tZ_59HNiamg       0.90      0.93      0.92       152\n",
      "Wx7cbLDqYEL3_aVZwh82Ww       0.96      0.94      0.95       194\n",
      "Xxvz5g67eaCr3emnkY5M6w       0.84      0.73      0.78       143\n",
      "YBT3EKUNN4IP8m4x7sGu1g       0.91      0.93      0.92       160\n",
      "YMgZqBUAddmFErxLtCfK_w       0.90      0.89      0.89       163\n",
      "YRcaNlwQ6XXPFDXWtuMGdA       0.88      0.72      0.79       185\n",
      "bLbSNkLggFnqwNNzzq-Ijw       0.99      0.86      0.92       160\n",
      "cMEtAiW60I5wE_vLfTxoJQ       0.88      0.89      0.89       163\n",
      "dIIKEfOgo0KqUfGQvGikPg       0.91      0.94      0.92       156\n",
      "d_TBs6J3twMy9GChqUEXkg       0.91      0.92      0.92       158\n",
      "dt9IHwfuZs9D9LOH7gjNew       0.88      0.91      0.89       176\n",
      "fiGqQ7pIGKyZ9G0RqWLMpg       0.92      0.96      0.94       168\n",
      "gwIqbXEXijQNgdESVc07hg       0.97      0.98      0.97       172\n",
      "hWDybu_KvYLSdEFzGrniTw       0.88      0.86      0.87       158\n",
      "iDlkZO2iILS8Jwfdy7DP9A       0.89      0.84      0.87       170\n",
      "ic-tyi1jElL_umxZVh8KNA       0.75      0.96      0.84       181\n",
      "n86B7IkbU20AkxlFX_5aew       0.96      0.93      0.95       158\n",
      "pMefTWo6gMdx8WhYSA2u3w       0.95      0.91      0.93       169\n",
      "qewG3X2O4X6JKskxyyqFwQ       0.96      0.94      0.95       160\n",
      "rCWrxuRC8_pfagpchtHp6A       0.97      0.92      0.94       181\n",
      "\n",
      "           avg / total       0.92      0.92      0.92      8250\n",
      "\n"
     ]
    }
   ],
   "source": [
    "print(classification_report(y_test, preds))"
   ]
  },
  {
   "cell_type": "code",
   "execution_count": 11,
   "metadata": {},
   "outputs": [
    {
     "name": "stdout",
     "output_type": "stream",
     "text": [
      "[[140   0   0 ...   2   0   0]\n",
      " [  0 148   1 ...   0   0   0]\n",
      " [  0   0 140 ...   0   0   1]\n",
      " ...\n",
      " [  0   0   0 ... 153   0   0]\n",
      " [  0   0   0 ...   0 151   0]\n",
      " [  1   1   0 ...   0   0 166]]\n"
     ]
    }
   ],
   "source": [
    "print(confusion_matrix(y_test, preds))"
   ]
  }
 ],
 "metadata": {
  "kernelspec": {
   "display_name": "Python 3",
   "language": "python",
   "name": "python3"
  },
  "language_info": {
   "codemirror_mode": {
    "name": "ipython",
    "version": 3
   },
   "file_extension": ".py",
   "mimetype": "text/x-python",
   "name": "python",
   "nbconvert_exporter": "python",
   "pygments_lexer": "ipython3",
   "version": "3.6.5"
  }
 },
 "nbformat": 4,
 "nbformat_minor": 2
}
